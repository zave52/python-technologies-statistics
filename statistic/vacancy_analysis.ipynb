{
 "cells": [
  {
   "metadata": {},
   "cell_type": "markdown",
   "source": "# Python technologies statistics",
   "id": "419bbdc6fd10abd1"
  },
  {
   "cell_type": "code",
   "id": "initial_id",
   "metadata": {
    "collapsed": true
   },
   "source": "import pandas as pd",
   "outputs": [],
   "execution_count": null
  },
  {
   "metadata": {},
   "cell_type": "code",
   "source": [
    "df_dou = pd.read_csv(\"../output/dou_vacancies.csv\")\n",
    "df_work_ua = pd.read_csv(\"../output/work_ua_vacancies.csv\")\n",
    "\n",
    "df = pd.concat([df_dou, df_work_ua], ignore_index=True)"
   ],
   "id": "bbf215e7c7a4782f",
   "outputs": [],
   "execution_count": null
  },
  {
   "metadata": {},
   "cell_type": "code",
   "source": "df.head()",
   "id": "968d3b26b8e05ea0",
   "outputs": [],
   "execution_count": null
  }
 ],
 "metadata": {
  "kernelspec": {
   "display_name": "Python 3",
   "language": "python",
   "name": "python3"
  },
  "language_info": {
   "codemirror_mode": {
    "name": "ipython",
    "version": 2
   },
   "file_extension": ".py",
   "mimetype": "text/x-python",
   "name": "python",
   "nbconvert_exporter": "python",
   "pygments_lexer": "ipython2",
   "version": "2.7.6"
  }
 },
 "nbformat": 4,
 "nbformat_minor": 5
}
