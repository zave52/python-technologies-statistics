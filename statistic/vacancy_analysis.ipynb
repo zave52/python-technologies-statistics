{
 "cells": [
  {
   "metadata": {},
   "cell_type": "markdown",
   "source": "# Python technologies statistics",
   "id": "419bbdc6fd10abd1"
  },
  {
   "cell_type": "code",
   "id": "initial_id",
   "metadata": {
    "collapsed": true
   },
   "source": [
    "import datetime\n",
    "import os\n",
    "import pandas as pd\n",
    "import matplotlib.pyplot as plt"
   ],
   "outputs": [],
   "execution_count": null
  },
  {
   "metadata": {},
   "cell_type": "code",
   "source": [
    "df_dou = pd.read_csv(\"../output/dou_vacancies.csv\")\n",
    "df_work_ua = pd.read_csv(\"../output/work_ua_vacancies.csv\")\n",
    "\n",
    "df = pd.concat([df_dou, df_work_ua], ignore_index=True)"
   ],
   "id": "bbf215e7c7a4782f",
   "outputs": [],
   "execution_count": null
  },
  {
   "metadata": {},
   "cell_type": "code",
   "source": "df.head()",
   "id": "968d3b26b8e05ea0",
   "outputs": [],
   "execution_count": null
  },
  {
   "metadata": {},
   "cell_type": "code",
   "source": [
    "current_date = datetime.datetime.now().strftime(\"%Y-%m-%d\")\n",
    "figures_dir = \"../output/figures\"\n",
    "os.makedirs(figures_dir, exist_ok=True)"
   ],
   "id": "7bab78c65de177d0",
   "outputs": [],
   "execution_count": null
  },
  {
   "metadata": {},
   "cell_type": "code",
   "source": "df[\"technologies\"] = df[\"technologies\"].apply(lambda x: x.split(',') if isinstance(x, str) else x)",
   "id": "b9612c22eeb0a9d8",
   "outputs": [],
   "execution_count": null
  },
  {
   "metadata": {},
   "cell_type": "code",
   "source": "tech_counts = df[\"technologies\"].explode().value_counts()",
   "id": "2c4766924c14c402",
   "outputs": [],
   "execution_count": null
  },
  {
   "metadata": {},
   "cell_type": "code",
   "source": [
    "plt.figure(figsize=(12, 8))\n",
    "tech_counts.head(15).plot(kind=\"bar\", color=\"skyblue\")\n",
    "plt.title(\"Most Popular Python Technologies in Job Listings by counts\")\n",
    "plt.xlabel(\"Technology\")\n",
    "plt.ylabel(\"Number of Vacancies\")\n",
    "plt.xticks(rotation=45, ha=\"right\")\n",
    "plt.grid(axis=\"y\", linestyle=\"--\", alpha=0.7)\n",
    "plt.tight_layout()\n",
    "plt.savefig(f\"{figures_dir}/tech_counts_{current_date}.png\")\n",
    "plt.show()"
   ],
   "id": "e019f978f2c39977",
   "outputs": [],
   "execution_count": null
  },
  {
   "metadata": {},
   "cell_type": "code",
   "source": [
    "total_vacancies = len(df)\n",
    "tech_percentage = tech_counts / total_vacancies * 100"
   ],
   "id": "d2e6bfb9806c89ca",
   "outputs": [],
   "execution_count": null
  },
  {
   "metadata": {},
   "cell_type": "code",
   "source": [
    "\n",
    "plt.figure(figsize=(12, 8))\n",
    "tech_percentage.head(15).plot(kind=\"bar\", color=\"skyblue\")\n",
    "plt.title(\"Most Popular Python Technologies in Job Listings by percentage\")\n",
    "plt.xlabel(\"Technology\")\n",
    "plt.ylabel(\"Percentage\")\n",
    "plt.xticks(rotation=45, ha=\"right\")\n",
    "plt.grid(axis=\"y\", linestyle=\"--\", alpha=0.7)\n",
    "plt.tight_layout()\n",
    "plt.savefig(f\"{figures_dir}/tech_percentage_{current_date}.png\")\n",
    "plt.show()"
   ],
   "id": "db26d5cddc5ead19",
   "outputs": [],
   "execution_count": null
  }
 ],
 "metadata": {
  "kernelspec": {
   "display_name": "Python 3",
   "language": "python",
   "name": "python3"
  },
  "language_info": {
   "codemirror_mode": {
    "name": "ipython",
    "version": 2
   },
   "file_extension": ".py",
   "mimetype": "text/x-python",
   "name": "python",
   "nbconvert_exporter": "python",
   "pygments_lexer": "ipython2",
   "version": "2.7.6"
  }
 },
 "nbformat": 4,
 "nbformat_minor": 5
}
